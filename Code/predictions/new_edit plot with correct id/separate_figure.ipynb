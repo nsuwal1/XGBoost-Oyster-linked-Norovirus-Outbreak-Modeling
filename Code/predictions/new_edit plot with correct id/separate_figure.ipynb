{
 "cells": [
  {
   "cell_type": "code",
   "execution_count": 1,
   "id": "ecab03c5-582d-484a-97b1-f3cf62b323cb",
   "metadata": {},
   "outputs": [
    {
     "name": "stdout",
     "output_type": "stream",
     "text": [
      "Saved: individual_plots1\\Predicted_vs_Actual_Louisiana_Coast_ID_6.tif\n",
      "Saved: individual_plots1\\Predicted_vs_Actual_Louisiana_Coast_ID_8.tif\n",
      "Saved: individual_plots1\\Predicted_vs_Actual_Louisiana_Coast_ID_12.tif\n",
      "Saved: individual_plots1\\Predicted_vs_Actual_Galveston_Coast_ID_14.tif\n",
      "Saved: individual_plots1\\Predicted_vs_Actual_Washington_Coast_ID_18.tif\n",
      "Saved: individual_plots1\\Predicted_vs_Actual_Washington_Coast_ID_21.tif\n",
      "Saved: individual_plots1\\Predicted_vs_Actual_British_Columbia_ID_25.tif\n",
      "Saved: individual_plots1\\Predicted_vs_Actual_France_Coast_ID_29.tif\n"
     ]
    }
   ],
   "source": [
    "import pandas as pd\n",
    "import matplotlib.pyplot as plt\n",
    "import os\n",
    "\n",
    "# Load the data from the Excel file\n",
    "file_path = 'new_test_predictions_with_id.xlsx'\n",
    "data = pd.read_excel(file_path, sheet_name='Sheet1')\n",
    "\n",
    "# Convert 'Date' to datetime format\n",
    "data['Date'] = pd.to_datetime(data['Date'])\n",
    "\n",
    "# Get unique IDs\n",
    "unique_ids = data['ID'].unique()\n",
    "\n",
    "# Create output directory if not exists\n",
    "output_dir = \"individual_plots1\"\n",
    "os.makedirs(output_dir, exist_ok=True)\n",
    "\n",
    "# Define mapping of IDs to region names\n",
    "id_region_map = {\n",
    "    6: \"Louisiana Coast\",\n",
    "    8: \"Louisiana Coast\",\n",
    "    12: \"Louisiana Coast\",\n",
    "    14: \"Galveston Coast\",\n",
    "    18: \"Washington Coast\",\n",
    "    21: \"Washington Coast\",\n",
    "    25: \"British Columbia\",\n",
    "    29: \"France Coast\"\n",
    "}\n",
    "\n",
    "# Generate individual plots\n",
    "for id in unique_ids:\n",
    "    # Filter data for the current ID\n",
    "    id_data = data[data['ID'] == id]\n",
    "\n",
    "    # Get region name if available\n",
    "    region = id_region_map.get(id, \"Unknown Region\")\n",
    "\n",
    "    # Create a figure\n",
    "    plt.figure(figsize=(10, 5))\n",
    "\n",
    "    # Plot predicted probability\n",
    "    plt.plot(id_data['Date'], id_data['Predicted Probability'], label='Predicted Risk', color='blue')\n",
    "\n",
    "    # Plot actual target\n",
    "    plt.plot(id_data['Date'], id_data['Target'], label='Reported Outbreak', color='red', marker='o')\n",
    "\n",
    "    # Add outbreak threshold line at 0.6\n",
    "    plt.axhline(y=0.6, color='green', linestyle='--', linewidth=1, label='Outbreak Threshold (0.6)')\n",
    "\n",
    "    # Customize plot title\n",
    "    #title = f\"{region}, ID: {id}\" if region != \"Unknown Region\" else f\"ID: {id}\"\n",
    "    #plt.title(f'Predicted vs Actual - {title}')\n",
    "    plt.xlabel('Date')\n",
    "    plt.ylabel('Outbreak risk')\n",
    "    plt.legend()\n",
    "    plt.grid(True)\n",
    "    plt.xticks(rotation=45)\n",
    "\n",
    "    # Save the figure\n",
    "    safe_region = region.replace(\" \", \"_\")\n",
    "    output_file = os.path.join(output_dir, f\"Predicted_vs_Actual_{safe_region}_ID_{id}.tif\")\n",
    "    plt.tight_layout()\n",
    "    plt.savefig(output_file, dpi=300, bbox_inches='tight')\n",
    "    plt.close()\n",
    "\n",
    "    print(f\"Saved: {output_file}\")\n"
   ]
  },
  {
   "cell_type": "code",
   "execution_count": null,
   "id": "8fd3fb6e-0c95-4ea3-adc6-c7977fe2e269",
   "metadata": {},
   "outputs": [],
   "source": []
  }
 ],
 "metadata": {
  "kernelspec": {
   "display_name": "Python 3 (ipykernel)",
   "language": "python",
   "name": "python3"
  },
  "language_info": {
   "codemirror_mode": {
    "name": "ipython",
    "version": 3
   },
   "file_extension": ".py",
   "mimetype": "text/x-python",
   "name": "python",
   "nbconvert_exporter": "python",
   "pygments_lexer": "ipython3",
   "version": "3.12.7"
  }
 },
 "nbformat": 4,
 "nbformat_minor": 5
}
